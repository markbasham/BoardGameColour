{
 "cells": [
  {
   "cell_type": "code",
   "execution_count": 1,
   "metadata": {},
   "outputs": [],
   "source": [
    "# Set up all the required imports for the project\n",
    "import requests\n",
    "from io import BytesIO\n",
    "import requests\n",
    "import urllib.request\n",
    "import time\n",
    "from bs4 import BeautifulSoup\n",
    "from skimage.color import rgb2hsv, hsv2rgb"
   ]
  },
  {
   "cell_type": "code",
   "execution_count": 2,
   "metadata": {},
   "outputs": [],
   "source": [
    "# Function that specifies if a game is after 2015 \n",
    "def in_date(soup):\n",
    "    try:\n",
    "        return int(soup.find('span').next[1:-1])>2015\n",
    "    except:\n",
    "        return False"
   ]
  },
  {
   "cell_type": "code",
   "execution_count": 3,
   "metadata": {},
   "outputs": [],
   "source": [
    "# Get a big list of the games to identify, this is the first 15 pages of BGG games, and is enough to find over 1000 games in the last 5 years\n",
    "games = []\n",
    "for i in range(1,15):\n",
    "    url = 'https://boardgamegeek.com/browse/boardgame/page/'+str(i)+'?sort=numvoters&sortdir=desc'\n",
    "    soup = BeautifulSoup(requests.get(url).text, 'html.parser')\n",
    "    games.extend([x.find_all('a')[1]['href'] for x in soup.find_all(id=\"row_\")])"
   ]
  },
  {
   "cell_type": "code",
   "execution_count": 4,
   "metadata": {},
   "outputs": [
    {
     "name": "stdout",
     "output_type": "stream",
     "text": [
      "(123.78855052583448, 60, 120, 2.3252, 8, 146719, 123.78855052583448)\n"
     ]
    }
   ],
   "source": [
    "# Test one entry to make sure things are working\n",
    "import json\n",
    "import statistics\n",
    "import sys\n",
    "from pprint import pprint\n",
    "from skimage.io import imread\n",
    "url = 'https://boardgamegeek.com/boardgame/13/catan/stats'\n",
    "soup = BeautifulSoup(requests.get(url).text, 'html.parser')\n",
    "image_url = json.loads(soup.find_all('script')[-1].next)['image']\n",
    "image = imread(BytesIO(requests.get(image_url).content))\n",
    "intensity = image.mean()\n",
    "age_string = soup.find_all('script')[1].next\n",
    "data = json.loads(age_string.split('\\n')[9].split(' = ')[1][:-1])['item']\n",
    "print((intensity,\n",
    "       int(data['minplaytime']),\n",
    "       int(data['maxplaytime']),\n",
    "       float(data['stats']['avgweight']),\n",
    "       int(data['polls']['playerage'][:-1]),\n",
    "       int(data['stats']['numowned']),\n",
    "       image.mean()))"
   ]
  },
  {
   "cell_type": "code",
   "execution_count": null,
   "metadata": {},
   "outputs": [
    {
     "name": "stdout",
     "output_type": "stream",
     "text": [
      "70 of 1400Unterminated string starting at: line 1 column 25701 (char 25700)\n",
      "81 of 1400Unterminated string starting at: line 1 column 23471 (char 23470)\n",
      "86 of 1400Unterminated string starting at: line 1 column 24733 (char 24732)\n",
      "95 of 1400Unterminated string starting at: line 1 column 19478 (char 19477)\n",
      "108 of 1400Unterminated string starting at: line 1 column 19373 (char 19372)\n",
      "110 of 1400Unterminated string starting at: line 1 column 20625 (char 20624)\n",
      "152 of 1400Unterminated string starting at: line 1 column 26195 (char 26194)\n",
      "190 of 1400Unterminated string starting at: line 1 column 21023 (char 21022)\n",
      "259 of 1400Unterminated string starting at: line 1 column 25007 (char 25006)\n",
      "282 of 1400Unterminated string starting at: line 1 column 24140 (char 24139)\n",
      "300 of 1400invalid literal for int() with base 10: '6–1'\n",
      "549 of 1400Unterminated string starting at: line 1 column 19143 (char 19142)\n",
      "599 of 1400Unterminated string starting at: line 1 column 21043 (char 21042)\n",
      "606 of 1400Unterminated string starting at: line 1 column 22040 (char 22039)\n",
      "626 of 1400Unterminated string starting at: line 1 column 21634 (char 21633)\n",
      "726 of 1400Unterminated string starting at: line 1 column 21703 (char 21702)\n",
      "747 of 1400Unterminated string starting at: line 1 column 22199 (char 22198)\n",
      "752 of 1400invalid literal for int() with base 10: '4–1'\n",
      "752 of 1400Unterminated string starting at: line 1 column 20073 (char 20072)\n",
      "790 of 1400Unterminated string starting at: line 1 column 17971 (char 17970)\n",
      "820 of 1400Unterminated string starting at: line 1 column 19918 (char 19917)\n",
      "858 of 1400invalid literal for int() with base 10: '3–'\n",
      "859 of 1400"
     ]
    }
   ],
   "source": [
    "# this goes through each of the chosen games, and gets the box art image, as well as other stats from Board Game Geek\n",
    "import json\n",
    "import statistics\n",
    "import sys\n",
    "from skimage.io import imread\n",
    "params = []\n",
    "total = len(games)\n",
    "sys.stdout.write('0 of '+str(total))\n",
    "for game in games:\n",
    "    try:\n",
    "        url = 'https://boardgamegeek.com'+game+'/stats'\n",
    "        soup = BeautifulSoup(requests.get(url).text, 'html.parser')\n",
    "        image_url = json.loads(soup.find_all('script')[-1].next)['image']\n",
    "        content = BytesIO(requests.get(image_url).content)\n",
    "        image = imread(content)\n",
    "        intensity = image.mean()\n",
    "        data_string = soup.find_all('script')[1].next\n",
    "        data = json.loads(data_string.split('\\n')[9].split(' = ')[1][:-1])['item']\n",
    "        params.append((intensity,\n",
    "                       int(data['minplaytime']),\n",
    "                       int(data['maxplaytime']),\n",
    "                       float(data['stats']['avgweight']),\n",
    "                       int(data['polls']['playerage'][:-1]),\n",
    "                       int(data['stats']['numowned'])))\n",
    "    except Exception as e: print(str(e))\n",
    "    sys.stdout.write('\\r')\n",
    "    sys.stdout.write(str(len(params))+' of '+str(total))\n",
    "    sys.stdout.flush()\n",
    "    if len(params) >= 1000:\n",
    "        # if we have the 1000 games we need, stop looking for more\n",
    "        break"
   ]
  },
  {
   "cell_type": "code",
   "execution_count": null,
   "metadata": {},
   "outputs": [],
   "source": [
    "# Turn all the statistics into numpy arrays so that they are easier to work with.\n",
    "import numpy as np\n",
    "intensity, minplaytime, maxplaytime, avgweight, playerage, numowned = zip(*params)\n",
    "intensity = np.array(intensity)\n",
    "minplaytime = np.array(minplaytime)\n",
    "maxplaytime = np.array(maxplaytime) \n",
    "avgweight = np.array(avgweight)\n",
    "playerage = np.array(playerage) \n",
    "numowned = np.array(numowned)\n",
    "averageplaytime = (minplaytime+maxplaytime)/2.0"
   ]
  },
  {
   "cell_type": "code",
   "execution_count": null,
   "metadata": {},
   "outputs": [],
   "source": [
    "# Create the main plot for the paper using matplotlib, bu changing x and y will allow other values from above to be plotted.\n",
    "%matplotlib inline\n",
    "import matplotlib.pyplot as plt\n",
    "plt.figure(figsize=(18, 12), dpi= 150, facecolor='w', edgecolor='k')\n",
    "plt.rcParams.update({'font.size': 22})\n",
    "x = intensity \n",
    "y = averageplaytime\n",
    "x_bins = np.linspace(0,256,16)\n",
    "y_bins = np.linspace(y.min(),300,15)\n",
    "plt.hist2d(x, y, bins=[x_bins,y_bins])\n",
    "plt.title('A 2D histogram of the average play time of the top 1000 games from\\nBoard Game Geek against the overall brightness of the Box')\n",
    "plt.xlabel('Lightness of Box Art (8 bit average pixel colour)')\n",
    "plt.ylabel('Board Game Geek average play time (minutes)')\n",
    "plt.colorbar()\n",
    "from numpy.polynomial.polynomial import polyfit\n",
    "pf = polyfit(x, y, 1)\n",
    "plt.plot(np.unique(x), pf[0] + pf[1] * np.unique(x), '-', label='Trend', linewidth=4, color='white')\n",
    "\n",
    "lightval = imread(\"LightBox.png\").mean()\n",
    "darkval = imread(\"DarkBox.png\").mean()\n",
    "\n",
    "plt.plot(lightval, 30, '*', label='Light', color='lightgray', markersize=30)\n",
    "plt.plot(darkval, 30, '*', label='Light', color='black', markersize=30)"
   ]
  },
  {
   "cell_type": "code",
   "execution_count": null,
   "metadata": {},
   "outputs": [],
   "source": [
    "#Plot the supplimentary figure from the paper\n",
    "%matplotlib inline\n",
    "import matplotlib.pyplot as plt\n",
    "plt.figure(figsize=(18, 12), dpi= 150, facecolor='w', edgecolor='k')\n",
    "plt.rcParams.update({'font.size': 22})\n",
    "x = intensity\n",
    "y = avgweight\n",
    "x_bins = np.linspace(0,256,16)\n",
    "y_bins = np.linspace(y.min(),y.max(),15)\n",
    "plt.hist2d(x, y, bins=[x_bins,y_bins])\n",
    "plt.title('A 2D histogram of the \"weight\" of the top 1000 games from\\nBoard Game Geek against the overall brightness of the Box')\n",
    "plt.xlabel('Lightness of Box Art (8 bit average pixel colour)')\n",
    "plt.ylabel('Board Game Geek \"weight\"')\n",
    "plt.colorbar()\n",
    "from numpy.polynomial.polynomial import polyfit\n",
    "pf = polyfit(x, y, 1)\n",
    "plt.plot(np.unique(x), pf[0] + pf[1] * np.unique(x), '-', label='Trend', linewidth=4, color='white')\n",
    "\n",
    "lightval = imread(\"LightBox.png\").mean()\n",
    "darkval = imread(\"DarkBox.png\").mean()\n",
    "\n",
    "plt.plot(lightval, pf[0] + pf[1] * np.unique(lightval), '*', label='Light', color='lightgray', markersize=30)\n",
    "plt.plot(darkval, pf[0] + pf[1] * np.unique(darkval), '*', label='Light', color='black', markersize=30)"
   ]
  }
 ],
 "metadata": {
  "kernelspec": {
   "display_name": "Python 3",
   "language": "python",
   "name": "python3"
  },
  "language_info": {
   "codemirror_mode": {
    "name": "ipython",
    "version": 3
   },
   "file_extension": ".py",
   "mimetype": "text/x-python",
   "name": "python",
   "nbconvert_exporter": "python",
   "pygments_lexer": "ipython3",
   "version": "3.8.3"
  }
 },
 "nbformat": 4,
 "nbformat_minor": 2
}
